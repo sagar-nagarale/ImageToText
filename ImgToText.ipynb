{
 "cells": [
  {
   "cell_type": "code",
   "execution_count": null,
   "id": "07db76ab",
   "metadata": {},
   "outputs": [],
   "source": [
    "import cv2\n",
    "import pytesseract\n",
    "import PIL\n",
    "from PIL import ImageTk, Image\n",
    "from tkinter import filedialog\n",
    "import os\n",
    "from tkinter import *\n",
    "import tkinter \n",
    "from tkinter import ttk \n",
    "\n",
    "m = tkinter.Tk()\n",
    "m.title('Image to Text')\n",
    "m.geometry('600x400') \n",
    "    \n",
    "\n",
    "\n",
    "def openfn_convert():\n",
    "    filename = filedialog.askopenfilename(title='open')\n",
    "\n",
    "    #image to text\n",
    "    img = cv2.imread(filename)\n",
    "    text = pytesseract.image_to_string(img)\n",
    "    # print(text)\n",
    "\n",
    "    scrollbar = Scrollbar(m)\n",
    "\n",
    "    #display image text\n",
    "    converted_text = Text(m, height=3,yscrollcommand=scrollbar.set)\n",
    "    converted_text.insert(1.0, text)\n",
    "    converted_text.pack(side=BOTTOM,padx=20)\n",
    "\n",
    "    return filename\n",
    "\n",
    "#open image and display it \n",
    "def open_image():\n",
    "    \n",
    "    x = openfn_convert()\n",
    "    img = PIL.Image.open(x)\n",
    "    img = ImageTk.PhotoImage(img)\n",
    "    panel = Label(m, image=img)\n",
    "    panel.image = img\n",
    "    panel.pack(side=TOP,padx=20, pady=20)\n",
    "\n",
    "\n",
    "\n",
    "#open file button \n",
    "btn = Button(m, text='open image', command=open_image)\n",
    "btn.pack(side=BOTTOM,padx=20, pady=20)\n",
    "\n",
    "m.mainloop()\n"
   ]
  }
 ],
 "metadata": {
  "kernelspec": {
   "display_name": "Python 3 (ipykernel)",
   "language": "python",
   "name": "python3"
  },
  "language_info": {
   "codemirror_mode": {
    "name": "ipython",
    "version": 3
   },
   "file_extension": ".py",
   "mimetype": "text/x-python",
   "name": "python",
   "nbconvert_exporter": "python",
   "pygments_lexer": "ipython3",
   "version": "3.9.7"
  }
 },
 "nbformat": 4,
 "nbformat_minor": 5
}
